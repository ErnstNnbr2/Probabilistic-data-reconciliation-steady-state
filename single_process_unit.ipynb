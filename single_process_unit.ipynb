{
 "cells": [
  {
   "cell_type": "code",
   "execution_count": null,
   "id": "c4e0e69b",
   "metadata": {},
   "outputs": [],
   "source": [
    "import numpy as np\n",
    "import pandas as pd\n",
    "import matplotlib.pyplot as plt\n",
    "import scipy as sc\n",
    "import seaborn as sns"
   ]
  },
  {
   "cell_type": "markdown",
   "id": "33710d0b",
   "metadata": {},
   "source": [
    "# 1. Single process example (showcasing a new view on unobservability)\n",
    "\n",
    "This example illustrates the nature of unobservability, of flow rate measurements (for a steady-state process), for the process diagram below. Only Stream 1 is measured and the split between Streams 2 and 3 will be unknown in the mass balance probability distribution model setup. Analytical solution(s) (where obtainable), trapezoidal and MCMC integration approximations for marginals are prepared. \n",
    "\n",
    "The mass balance for the process under consideration is (in t/h):\n",
    " - $\\dot{m}_1 = \\dot{m}_2 + \\dot{m}_3 \\rightarrow 0 = \\dot{m}_1 - \\dot{m}_2 - \\dot{m}_3 \\rightarrow 0 = \\begin{bmatrix} 1 & -1 & -1 \\end{bmatrix} \\begin{bmatrix} \\dot{m}_1 \\\\ \\dot{m}_2 \\\\ \\dot{m}_3 \\end{bmatrix} $\n",
    "\n",
    "<img src=\"Balance_example.png\" width=260>\n",
    "\n",
    "Flow rate state variables are $X=[x_1,x_2,x_3]$ and the flow measurement for $x_1$ is $y$. The incidence matrix is $M=[1,-1,-1]$, measurement variance is $\\sigma^2$ and mass balance error variance is $\\sigma_e^2$. Upper and lower bounds for $X$ are $\\alpha=[a_1,a_2,a_3]$ and $\\beta=[b_1,b_2,b_3]$. Also, $\\alpha$ and $\\beta$ give the bounds for the posterior distribution's domain $\\Omega$.\n",
    " - Likelihood distribution $\\rightarrow P(y|x_1, \\sigma, I) = \\frac{1}{\\sqrt{2 \\pi \\sigma^2}} \\cdot e^{-(y-x_1)^2/(2\\sigma^2)}$\n",
    " - Mass balance prior $\\rightarrow P(0|X, M, \\sigma_e, I) = \\frac{1}{\\sqrt{2 \\pi \\sigma_e^2}} \\cdot e^{-(0-MX)^2/(2\\sigma_e^2)}$\n",
    " - Uniform flow prior(s) $\\rightarrow U(X|\\alpha,\\beta, I) = \\prod_i{\\frac{1}{b_i - a_i}}$\n",
    "\n",
    "Mass balance posterior distribution is $P(X|y,\\sigma,\\sigma_e, \\alpha, \\beta, I) = P(y|x_1, \\sigma, I) \\times P(0|X, M, \\sigma_e, I) \\times U(X|\\alpha,\\beta, I)$. Substituting the defined terms gives $P(X|y,\\sigma,\\sigma_e, \\alpha, \\beta, I) = \\frac{1}{\\sqrt{2 \\pi \\sigma^2}} \\frac{1}{\\sqrt{2 \\pi \\sigma_e^2}} \\prod_i{\\frac{1}{b_i - a_i}} e^{-(y-x_1)^2/(2\\sigma^2)} e^{-(0-x_1+x_2+x_3)^2/(2\\sigma_e^2)}$. An integral (along any combination of $x_1$, $x_2$ or $x_3$) of $P(X|y,\\sigma,\\sigma_e, \\alpha, \\beta, I)$ will not have closed-form (analytical) solutions; however, marginals of $P(y|x_1, \\sigma, I) \\times P(0|X, M, \\sigma_e, I)$ have closed-form expressions - these will be compared to the numerical approximations below."
   ]
  },
  {
   "cell_type": "code",
   "execution_count": null,
   "id": "1d0f2bc1",
   "metadata": {},
   "outputs": [],
   "source": [
    "# Assign variance values, measurement value and variable limits\n",
    "sig = 0.1\n",
    "sig_e = 0.0001\n",
    "y = 1.5\n",
    "a_1,a_2,a_3 = [0,0,0]\n",
    "b_1,b_2,b_3 = [3,3,3]"
   ]
  },
  {
   "cell_type": "code",
   "execution_count": null,
   "id": "0e295d03",
   "metadata": {},
   "outputs": [],
   "source": [
    "'''Trapezoidal method'''\n",
    "grid_pts = 100\n",
    "X1_g,X2_g,X3_g = np.meshgrid(np.linspace(a_1,b_1,grid_pts),np.linspace(a_2,b_2,grid_pts),np.linspace(a_3,b_3,grid_pts))\n",
    "P_ = []\n",
    "# Calculate posterior probabilities on meshgrid\n",
    "for i,j,k in zip(X1_g.flatten(), X2_g.flatten(), X3_g.flatten()):\n",
    "    P_.append( np.exp(-((y-i)**2)/(2*sig)) * np.exp(-((0-i+j+k)**2)/(2*sig_e)) )\n",
    "\n",
    "# numerically approximate the normalising constant (i.e. evidence term)\n",
    "X2_c,X3_c = np.meshgrid(np.linspace(a_2,b_2,grid_pts),np.linspace(a_3,b_3,grid_pts))\n",
    "P_E_trapz = np.trapezoid(\n",
    "    np.trapezoid( \n",
    "        np.trapezoid(np.array(P_).reshape(X1_g.shape).T, x=X1_g, axis=1), x=X2_c, axis=1\n",
    "        ), x=np.linspace(a_3,b_3,grid_pts), axis=0) \n",
    "P_ = np.array(P_)/P_E_trapz"
   ]
  },
  {
   "cell_type": "code",
   "execution_count": null,
   "id": "d1454fac",
   "metadata": {},
   "outputs": [],
   "source": [
    "'''MCMC method'''\n",
    "def log_prob(par):\n",
    "    if sum( (np.array(par)>0)&(np.array(par)<3) )==3:\n",
    "        prob = -((y-par[0])**2)/(2*sig) + -((0-par[0]+par[1]+par[2])**2)/(2*sig_e) # probs in log form (ignoring constant term)\n",
    "    else:\n",
    "        prob = -1e+120\n",
    "    return prob\n",
    "\n",
    "x0 = [a_1 + (b_1-a_1)/2,a_2 + (b_2-a_2)/2,a_3 + (b_3-a_3)/2] # MC start points\n",
    "xi = x0\n",
    "samp_res = []\n",
    "for i in range(1500000):\n",
    "    u = np.random.uniform(0,1)\n",
    "    sel_x = np.array([np.random.uniform(i-0.29,i+0.29) for i in xi])\n",
    "    p_x_prev = log_prob(xi)\n",
    "    p_x = log_prob(sel_x)\n",
    "    if np.log(u) < min(0, p_x-p_x_prev): # select new point in MC\n",
    "        xi = sel_x\n",
    "        samp_res.append([i for i in xi])\n",
    "    else:\n",
    "        samp_res.append([i for i in xi])\n",
    "        continue\n",
    "# plt.plot(np.array(samp_res)) # used as a diagnostic"
   ]
  },
  {
   "cell_type": "code",
   "execution_count": null,
   "id": "ae650006",
   "metadata": {},
   "outputs": [],
   "source": [
    "X2_,X3_ = np.meshgrid(np.linspace(a_2,b_2,grid_pts),np.linspace(a_3,b_3,grid_pts))\n",
    "fig,axx = plt.subplots(1,4,figsize=(23.,5.))\n",
    "axx[0].contour( X2_, X3_, np.trapezoid(P_.reshape(X1_g.shape).T, x=X1_g, axis=1) )\n",
    "axx[0].hist2d(np.array(samp_res)[:,1], np.array(samp_res)[:,2], bins=40, density=True, cmap='bwr', alpha=0.6)\n",
    "axx[0].plot(np.linspace(a_2,y,300), -1.0*np.linspace(a_2,y,300)+y, 'r', label='$y=x_2+x_3$')\n",
    "axx[0].legend(), axx[0].grid(ls='--')\n",
    "axx[0].set_xlabel('Flow $x_2$ (t/h)'), axx[0].set_ylabel('Flow $x_3$ (t/h)')\n",
    "axx[0].set_title(r'Marginal distribution $P([x_2, x_3]|y,\\sigma,\\sigma_e, \\alpha, \\beta, I)$:'+'\\n Contours'+r'$\\rightarrow$ trapezoidal method'+'\\n Heatmap'+r'$\\rightarrow$ MCMC samples')\n",
    "\n",
    "sns.histplot(np.array(samp_res)[:,0], color='b', kde=True, bins=50, stat='density', label='MCMC samples', alpha=0.5, ax=axx[1])\n",
    "axx[1].plot(np.linspace(a_1,b_1,grid_pts), np.trapezoid(np.trapezoid(P_.reshape(X1_g.shape).T, x=X2_g, axis=0), x=X2_c, axis=1), 'g', label='Trapezoidal method')\n",
    "sns.histplot(np.array(samp_res)[:,1], color='b', kde=True, bins=50, stat='density', label='MCMC samples', alpha=0.5, ax=axx[2])\n",
    "axx[2].plot(np.linspace(a_2,b_2,grid_pts), np.trapezoid(np.trapezoid(P_.reshape(X1_g.shape).T, x=X1_g, axis=1), x=X3_c, axis=0), 'g', label='Trapezoidal method')\n",
    "sns.histplot(np.array(samp_res)[:,2], color='b', kde=True, bins=50, stat='density', label='MCMC samples', alpha=0.5, ax=axx[3])\n",
    "axx[3].plot(np.linspace(a_3,b_3,grid_pts), np.trapezoid(np.trapezoid(P_.reshape(X1_g.shape).T, x=X1_g, axis=1), x=X2_c, axis=1), 'g', label='Trapezoidal method')\n",
    "for i in [1,2,3]:\n",
    "    axx[i].set_xlabel('Flow $x_{}$ (t/h)'.format(i)), axx[i].set_ylabel('Marginal probability')\n",
    "    axx[i].grid(ls='--'), axx[i].legend()\n",
    "    axx[i].set_title(r'Marginal distribution $P(x_{}|y,\\sigma,\\sigma_e, \\alpha, \\beta, I)$'.format(i))"
   ]
  },
  {
   "cell_type": "code",
   "execution_count": null,
   "id": "39256310",
   "metadata": {},
   "outputs": [],
   "source": [
    "'''Analytical method'''\n",
    "X2,X3 = np.meshgrid(np.linspace(a_2,b_2,grid_pts),np.linspace(a_3,b_3,grid_pts))\n",
    "P_ = []\n",
    "for j,k in zip(X2.flatten(), X3.flatten()):\n",
    "    # term1 = 1/np.sqrt(2*np.pi*sig**2)\n",
    "    # term2 = 1/np.sqrt(2*np.pi*sig_e**2)\n",
    "    # term3 = np.exp(-((j+k)**2)/(2*sig_e**2))\n",
    "    # term4 = np.exp(-(1.5**2)/(2*sig**2))\n",
    "    # term5 = np.sqrt(np.pi/((1/(2*sig**2))+(1/(2*sig_e**2))))\n",
    "    # term6 = np.exp((((1.5/(sig**2))+((j+k)/(sig_e**2)))**2)/(4*((1/(2*sig**2))+(1/(2*sig_e**2)))))\n",
    "    term1 = 1/np.sqrt(2*np.pi*sig**2)\n",
    "    term2 = 1/np.sqrt(2*np.pi*sig_e**2)\n",
    "    term3 = -((j+k)**2)/(2*sig_e**2)\n",
    "    term4 = -(y**2)/(2*sig**2)\n",
    "    term5 = np.sqrt(np.pi/((1/(2*sig**2))+(1/(2*sig_e**2))))\n",
    "    term6 = (((y/(sig**2))+((j+k)/(sig_e**2)))**2)/(4*((1/(2*sig**2))+(1/(2*sig_e**2))))\n",
    "    P_.append( np.log(term1)+np.log(term2)+term3+term4+np.log(term5)+term6 )\n",
    "\n",
    "plt.contour(X2, X3, np.exp(np.array(P_).reshape(X2.shape)))\n",
    "plt.plot(np.linspace(a_2,y,1000), -1.0*np.linspace(a_2,y,1000)+y, 'r')"
   ]
  },
  {
   "cell_type": "code",
   "execution_count": null,
   "id": "83744cea",
   "metadata": {},
   "outputs": [],
   "source": []
  }
 ],
 "metadata": {
  "kernelspec": {
   "display_name": ".venv",
   "language": "python",
   "name": "python3"
  },
  "language_info": {
   "codemirror_mode": {
    "name": "ipython",
    "version": 3
   },
   "file_extension": ".py",
   "mimetype": "text/x-python",
   "name": "python",
   "nbconvert_exporter": "python",
   "pygments_lexer": "ipython3",
   "version": "3.12.7"
  }
 },
 "nbformat": 4,
 "nbformat_minor": 5
}
